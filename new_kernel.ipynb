{
  "cells": [
    {
      "metadata": {
        "_uuid": "8f2839f25d086af736a60e9eeb907d3b93b6e0e5",
        "_cell_guid": "b1076dfc-b9ad-4769-8c92-a6c4dae69d19",
        "trusted": true,
        "scrolled": true
      },
      "cell_type": "code",
      "source": "# This Python 3 environment comes with many helpful analytics libraries installed\n# It is defined by the kaggle/python docker image: https://github.com/kaggle/docker-python\n# For example, here's several helpful packages to load in \n\nimport numpy as np # linear algebra\nimport pandas as pd # data processing, CSV file I/O (e.g. pd.read_csv)\n\n# Input data files are available in the \"../input/\" directory.\n# For example, running this (by clicking run or pressing Shift+Enter) will list the files in the input directory\n\nimport os\nprint(os.listdir(\"../input\"))\n\n# Any results you write to the current directory are saved as output.",
      "execution_count": 9,
      "outputs": [
        {
          "output_type": "stream",
          "text": "['professionals.csv', 'tag_users.csv', 'students.csv', 'tag_questions.csv', 'groups.csv', 'emails.csv', 'group_memberships.csv', 'answers.csv', 'comments.csv', 'matches.csv', 'tags.csv', 'questions.csv', 'school_memberships.csv']\n",
          "name": "stdout"
        }
      ]
    },
    {
      "metadata": {
        "_uuid": "adbb1cfe3307bd4d0f20bc6ec70536ad0889b25d"
      },
      "cell_type": "markdown",
      "source": "## Objective\nTo Recommend Question from User to Some Answerers\n- Two kinda role\n  - Professionals with tags(topic)\n  - Students with tags(topic)\n- Three kinda text data\n  - questions\n  - answers\n    - comments: Our favorite comments tend to have \"Thank you\" in them :)"
    },
    {
      "metadata": {
        "_uuid": "02fbea0fd7bf48ac6716eb30040a37b2d8320c5b"
      },
      "cell_type": "markdown",
      "source": "- Input: Question_User_Tags & Comment(Title&Body) -> Topic Model\n- Output: Answer_User"
    },
    {
      "metadata": {
        "_uuid": "5fd7516588c331f0d79db528533a82e1aa45baa1"
      },
      "cell_type": "markdown",
      "source": "質問者と回答者\nTop 20人にE-mail送信\n    \n1. カテゴリーマッチング\n    - 回答者をカテゴリーに分けておく\n    - コメント（タイトルとボディ）をまずカテゴリーに分類\n2. "
    },
    {
      "metadata": {
        "_cell_guid": "79c7e3d0-c299-4dcb-8224-4455121ee9b0",
        "_uuid": "d629ff2d2480ee46fbb7e2d37f6b5fab8052498a",
        "trusted": true
      },
      "cell_type": "code",
      "source": "prof = pd.read_csv('../input/professionals.csv')\nprof.head()",
      "execution_count": 6,
      "outputs": [
        {
          "output_type": "execute_result",
          "execution_count": 6,
          "data": {
            "text/plain": "                   professionals_id              ...                  professionals_date_joined\n0  9ced4ce7519049c0944147afb75a8ce3              ...               2011-10-05 20:35:19 UTC+0000\n1  f718dcf6d2ec4cb0a52a9db59d7f9e67              ...               2011-10-05 20:49:21 UTC+0000\n2  0c673e046d824ec0ad0ebe012a0673e4              ...               2011-10-18 17:31:26 UTC+0000\n3  977428d851b24183b223be0eb8619a8c              ...               2011-11-09 20:39:29 UTC+0000\n4  e2d57e5041a44f489288397c9904c2b2              ...               2011-12-10 22:14:44 UTC+0000\n\n[5 rows x 5 columns]",
            "text/html": "<div>\n<style scoped>\n    .dataframe tbody tr th:only-of-type {\n        vertical-align: middle;\n    }\n\n    .dataframe tbody tr th {\n        vertical-align: top;\n    }\n\n    .dataframe thead th {\n        text-align: right;\n    }\n</style>\n<table border=\"1\" class=\"dataframe\">\n  <thead>\n    <tr style=\"text-align: right;\">\n      <th></th>\n      <th>professionals_id</th>\n      <th>professionals_location</th>\n      <th>professionals_industry</th>\n      <th>professionals_headline</th>\n      <th>professionals_date_joined</th>\n    </tr>\n  </thead>\n  <tbody>\n    <tr>\n      <th>0</th>\n      <td>9ced4ce7519049c0944147afb75a8ce3</td>\n      <td>NaN</td>\n      <td>NaN</td>\n      <td>NaN</td>\n      <td>2011-10-05 20:35:19 UTC+0000</td>\n    </tr>\n    <tr>\n      <th>1</th>\n      <td>f718dcf6d2ec4cb0a52a9db59d7f9e67</td>\n      <td>NaN</td>\n      <td>NaN</td>\n      <td>NaN</td>\n      <td>2011-10-05 20:49:21 UTC+0000</td>\n    </tr>\n    <tr>\n      <th>2</th>\n      <td>0c673e046d824ec0ad0ebe012a0673e4</td>\n      <td>New York, New York</td>\n      <td>NaN</td>\n      <td>NaN</td>\n      <td>2011-10-18 17:31:26 UTC+0000</td>\n    </tr>\n    <tr>\n      <th>3</th>\n      <td>977428d851b24183b223be0eb8619a8c</td>\n      <td>Boston, Massachusetts</td>\n      <td>NaN</td>\n      <td>NaN</td>\n      <td>2011-11-09 20:39:29 UTC+0000</td>\n    </tr>\n    <tr>\n      <th>4</th>\n      <td>e2d57e5041a44f489288397c9904c2b2</td>\n      <td>NaN</td>\n      <td>NaN</td>\n      <td>NaN</td>\n      <td>2011-12-10 22:14:44 UTC+0000</td>\n    </tr>\n  </tbody>\n</table>\n</div>"
          },
          "metadata": {}
        }
      ]
    },
    {
      "metadata": {
        "_kg_hide-output": true,
        "_kg_hide-input": false,
        "trusted": true,
        "_uuid": "1c7e83a2978f4c77a43300c5112c9b9dbdfac855"
      },
      "cell_type": "code",
      "source": "usertag = pd.read_csv('../input/tag_users.csv')\nusertag.head()",
      "execution_count": 7,
      "outputs": [
        {
          "output_type": "execute_result",
          "execution_count": 7,
          "data": {
            "text/plain": "   tag_users_tag_id                 tag_users_user_id\n0               593  c72ab38e073246e88da7e9a4ec7a4472\n1              1642  8db519781ec24f2e8bdc67c2ac53f614\n2               638  042d2184ee3e4e548fc3589baaa69caf\n3             11093  c660bd0dc1b34224be78a58aa5a84a63\n4             21539  8ce1dca4e94240239e4385ed22ef43ce",
            "text/html": "<div>\n<style scoped>\n    .dataframe tbody tr th:only-of-type {\n        vertical-align: middle;\n    }\n\n    .dataframe tbody tr th {\n        vertical-align: top;\n    }\n\n    .dataframe thead th {\n        text-align: right;\n    }\n</style>\n<table border=\"1\" class=\"dataframe\">\n  <thead>\n    <tr style=\"text-align: right;\">\n      <th></th>\n      <th>tag_users_tag_id</th>\n      <th>tag_users_user_id</th>\n    </tr>\n  </thead>\n  <tbody>\n    <tr>\n      <th>0</th>\n      <td>593</td>\n      <td>c72ab38e073246e88da7e9a4ec7a4472</td>\n    </tr>\n    <tr>\n      <th>1</th>\n      <td>1642</td>\n      <td>8db519781ec24f2e8bdc67c2ac53f614</td>\n    </tr>\n    <tr>\n      <th>2</th>\n      <td>638</td>\n      <td>042d2184ee3e4e548fc3589baaa69caf</td>\n    </tr>\n    <tr>\n      <th>3</th>\n      <td>11093</td>\n      <td>c660bd0dc1b34224be78a58aa5a84a63</td>\n    </tr>\n    <tr>\n      <th>4</th>\n      <td>21539</td>\n      <td>8ce1dca4e94240239e4385ed22ef43ce</td>\n    </tr>\n  </tbody>\n</table>\n</div>"
          },
          "metadata": {}
        }
      ]
    },
    {
      "metadata": {
        "trusted": true,
        "_uuid": "8c929b3e4a9efd82a81da1ddd6c3270029205673"
      },
      "cell_type": "code",
      "source": "student = pd.read_csv('../input/students.csv')\nstudent.head()",
      "execution_count": 8,
      "outputs": [
        {
          "output_type": "execute_result",
          "execution_count": 8,
          "data": {
            "text/plain": "                        students_id              ...                       students_date_joined\n0  12a89e96755a4dba83ff03e03043d9c0              ...               2011-12-16 14:19:24 UTC+0000\n1  e37a5990fe354c60be5e87376b08d5e3              ...               2011-12-27 03:02:44 UTC+0000\n2  12b402cceeda43dcb6e12ef9f2d221ea              ...               2012-01-01 05:00:00 UTC+0000\n3  a0f431fc79794edcb104f68ce55ab897              ...               2012-01-01 05:00:00 UTC+0000\n4  23aea4702d804bd88d1e9fb28074a1b4              ...               2012-01-01 05:00:00 UTC+0000\n\n[5 rows x 3 columns]",
            "text/html": "<div>\n<style scoped>\n    .dataframe tbody tr th:only-of-type {\n        vertical-align: middle;\n    }\n\n    .dataframe tbody tr th {\n        vertical-align: top;\n    }\n\n    .dataframe thead th {\n        text-align: right;\n    }\n</style>\n<table border=\"1\" class=\"dataframe\">\n  <thead>\n    <tr style=\"text-align: right;\">\n      <th></th>\n      <th>students_id</th>\n      <th>students_location</th>\n      <th>students_date_joined</th>\n    </tr>\n  </thead>\n  <tbody>\n    <tr>\n      <th>0</th>\n      <td>12a89e96755a4dba83ff03e03043d9c0</td>\n      <td>NaN</td>\n      <td>2011-12-16 14:19:24 UTC+0000</td>\n    </tr>\n    <tr>\n      <th>1</th>\n      <td>e37a5990fe354c60be5e87376b08d5e3</td>\n      <td>NaN</td>\n      <td>2011-12-27 03:02:44 UTC+0000</td>\n    </tr>\n    <tr>\n      <th>2</th>\n      <td>12b402cceeda43dcb6e12ef9f2d221ea</td>\n      <td>NaN</td>\n      <td>2012-01-01 05:00:00 UTC+0000</td>\n    </tr>\n    <tr>\n      <th>3</th>\n      <td>a0f431fc79794edcb104f68ce55ab897</td>\n      <td>NaN</td>\n      <td>2012-01-01 05:00:00 UTC+0000</td>\n    </tr>\n    <tr>\n      <th>4</th>\n      <td>23aea4702d804bd88d1e9fb28074a1b4</td>\n      <td>NaN</td>\n      <td>2012-01-01 05:00:00 UTC+0000</td>\n    </tr>\n  </tbody>\n</table>\n</div>"
          },
          "metadata": {}
        }
      ]
    },
    {
      "metadata": {
        "trusted": true,
        "_uuid": "aed0965e0ba14488714fb399c8761c5619162eb7"
      },
      "cell_type": "code",
      "source": "email = pd.read_csv('../input/emails.csv')\nemail.head()",
      "execution_count": 11,
      "outputs": [
        {
          "output_type": "execute_result",
          "execution_count": 11,
          "data": {
            "text/plain": "   emails_id            ...               emails_frequency_level\n0    2337714            ...             email_notification_daily\n1    2336077            ...             email_notification_daily\n2    2314660            ...             email_notification_daily\n3    2312639            ...             email_notification_daily\n4    2299700            ...             email_notification_daily\n\n[5 rows x 4 columns]",
            "text/html": "<div>\n<style scoped>\n    .dataframe tbody tr th:only-of-type {\n        vertical-align: middle;\n    }\n\n    .dataframe tbody tr th {\n        vertical-align: top;\n    }\n\n    .dataframe thead th {\n        text-align: right;\n    }\n</style>\n<table border=\"1\" class=\"dataframe\">\n  <thead>\n    <tr style=\"text-align: right;\">\n      <th></th>\n      <th>emails_id</th>\n      <th>emails_recipient_id</th>\n      <th>emails_date_sent</th>\n      <th>emails_frequency_level</th>\n    </tr>\n  </thead>\n  <tbody>\n    <tr>\n      <th>0</th>\n      <td>2337714</td>\n      <td>0c673e046d824ec0ad0ebe012a0673e4</td>\n      <td>2018-12-07 01:05:40 UTC+0000</td>\n      <td>email_notification_daily</td>\n    </tr>\n    <tr>\n      <th>1</th>\n      <td>2336077</td>\n      <td>0c673e046d824ec0ad0ebe012a0673e4</td>\n      <td>2018-12-06 01:14:15 UTC+0000</td>\n      <td>email_notification_daily</td>\n    </tr>\n    <tr>\n      <th>2</th>\n      <td>2314660</td>\n      <td>0c673e046d824ec0ad0ebe012a0673e4</td>\n      <td>2018-11-17 00:38:27 UTC+0000</td>\n      <td>email_notification_daily</td>\n    </tr>\n    <tr>\n      <th>3</th>\n      <td>2312639</td>\n      <td>0c673e046d824ec0ad0ebe012a0673e4</td>\n      <td>2018-11-16 00:32:19 UTC+0000</td>\n      <td>email_notification_daily</td>\n    </tr>\n    <tr>\n      <th>4</th>\n      <td>2299700</td>\n      <td>0c673e046d824ec0ad0ebe012a0673e4</td>\n      <td>2018-11-08 00:16:40 UTC+0000</td>\n      <td>email_notification_daily</td>\n    </tr>\n  </tbody>\n</table>\n</div>"
          },
          "metadata": {}
        }
      ]
    },
    {
      "metadata": {
        "trusted": true,
        "_uuid": "cf3f9e78bf8a4bed2d743e8d9751115d67ff4b41"
      },
      "cell_type": "code",
      "source": "memb = pd.read_csv('../input/group_memberships.csv')\nmemb.head()",
      "execution_count": 12,
      "outputs": [
        {
          "output_type": "execute_result",
          "execution_count": 12,
          "data": {
            "text/plain": "         group_memberships_group_id         group_memberships_user_id\n0  eabbdf4029734c848a9da20779637d03  9a5aead62c344207b2624dba90985dc5\n1  eabbdf4029734c848a9da20779637d03  ea7122da1c7b4244a2184a4f9f944053\n2  eabbdf4029734c848a9da20779637d03  cba603f34acb4a40b3ccb53fe6681b5d\n3  eabbdf4029734c848a9da20779637d03  fa9a126e63714641ae0145557a390cab\n4  eabbdf4029734c848a9da20779637d03  299da113c5d1420ab525106c242c9429",
            "text/html": "<div>\n<style scoped>\n    .dataframe tbody tr th:only-of-type {\n        vertical-align: middle;\n    }\n\n    .dataframe tbody tr th {\n        vertical-align: top;\n    }\n\n    .dataframe thead th {\n        text-align: right;\n    }\n</style>\n<table border=\"1\" class=\"dataframe\">\n  <thead>\n    <tr style=\"text-align: right;\">\n      <th></th>\n      <th>group_memberships_group_id</th>\n      <th>group_memberships_user_id</th>\n    </tr>\n  </thead>\n  <tbody>\n    <tr>\n      <th>0</th>\n      <td>eabbdf4029734c848a9da20779637d03</td>\n      <td>9a5aead62c344207b2624dba90985dc5</td>\n    </tr>\n    <tr>\n      <th>1</th>\n      <td>eabbdf4029734c848a9da20779637d03</td>\n      <td>ea7122da1c7b4244a2184a4f9f944053</td>\n    </tr>\n    <tr>\n      <th>2</th>\n      <td>eabbdf4029734c848a9da20779637d03</td>\n      <td>cba603f34acb4a40b3ccb53fe6681b5d</td>\n    </tr>\n    <tr>\n      <th>3</th>\n      <td>eabbdf4029734c848a9da20779637d03</td>\n      <td>fa9a126e63714641ae0145557a390cab</td>\n    </tr>\n    <tr>\n      <th>4</th>\n      <td>eabbdf4029734c848a9da20779637d03</td>\n      <td>299da113c5d1420ab525106c242c9429</td>\n    </tr>\n  </tbody>\n</table>\n</div>"
          },
          "metadata": {}
        }
      ]
    },
    {
      "metadata": {
        "trusted": true,
        "_uuid": "4a0f9f144246c810d5669832403cde8991039901"
      },
      "cell_type": "code",
      "source": "ans = pd.read_csv('../input/answers.csv')\nans.head()",
      "execution_count": 13,
      "outputs": [
        {
          "output_type": "execute_result",
          "execution_count": 13,
          "data": {
            "text/plain": "                         answers_id                        ...                                                               answers_body\n0  4e5f01128cae4f6d8fd697cec5dca60c                        ...                          <p>Hi!</p>\\n<p>You are asking a very interesti...\n1  ada720538c014e9b8a6dceed09385ee3                        ...                          <p>Hi. I joined the Army after I attended coll...\n2  eaa66ef919bc408ab5296237440e323f                        ...                          <p>Dear Priyanka,</p><p>Greetings! I have answ...\n3  1a6b3749d391486c9e371fbd1e605014                        ...                          <p>I work for a global company who values high...\n4  5229c514000446d582050f89ebd4e184                        ...                          I agree with Denise. Every single job I've had...\n\n[5 rows x 5 columns]",
            "text/html": "<div>\n<style scoped>\n    .dataframe tbody tr th:only-of-type {\n        vertical-align: middle;\n    }\n\n    .dataframe tbody tr th {\n        vertical-align: top;\n    }\n\n    .dataframe thead th {\n        text-align: right;\n    }\n</style>\n<table border=\"1\" class=\"dataframe\">\n  <thead>\n    <tr style=\"text-align: right;\">\n      <th></th>\n      <th>answers_id</th>\n      <th>answers_author_id</th>\n      <th>answers_question_id</th>\n      <th>answers_date_added</th>\n      <th>answers_body</th>\n    </tr>\n  </thead>\n  <tbody>\n    <tr>\n      <th>0</th>\n      <td>4e5f01128cae4f6d8fd697cec5dca60c</td>\n      <td>36ff3b3666df400f956f8335cf53e09e</td>\n      <td>332a511f1569444485cf7a7a556a5e54</td>\n      <td>2016-04-29 19:40:14 UTC+0000</td>\n      <td>&lt;p&gt;Hi!&lt;/p&gt;\\n&lt;p&gt;You are asking a very interesti...</td>\n    </tr>\n    <tr>\n      <th>1</th>\n      <td>ada720538c014e9b8a6dceed09385ee3</td>\n      <td>2aa47af241bf42a4b874c453f0381bd4</td>\n      <td>eb80205482e4424cad8f16bc25aa2d9c</td>\n      <td>2018-05-01 14:19:08 UTC+0000</td>\n      <td>&lt;p&gt;Hi. I joined the Army after I attended coll...</td>\n    </tr>\n    <tr>\n      <th>2</th>\n      <td>eaa66ef919bc408ab5296237440e323f</td>\n      <td>cbd8f30613a849bf918aed5c010340be</td>\n      <td>eb80205482e4424cad8f16bc25aa2d9c</td>\n      <td>2018-05-02 02:41:02 UTC+0000</td>\n      <td>&lt;p&gt;Dear Priyanka,&lt;/p&gt;&lt;p&gt;Greetings! I have answ...</td>\n    </tr>\n    <tr>\n      <th>3</th>\n      <td>1a6b3749d391486c9e371fbd1e605014</td>\n      <td>7e72a630c303442ba92ff00e8ea451df</td>\n      <td>4ec31632938a40b98909416bdd0decff</td>\n      <td>2017-05-10 19:00:47 UTC+0000</td>\n      <td>&lt;p&gt;I work for a global company who values high...</td>\n    </tr>\n    <tr>\n      <th>4</th>\n      <td>5229c514000446d582050f89ebd4e184</td>\n      <td>17802d94699140b0a0d2995f30c034c6</td>\n      <td>2f6a9a99d9b24e5baa50d40d0ba50a75</td>\n      <td>2017-10-13 22:07:33 UTC+0000</td>\n      <td>I agree with Denise. Every single job I've had...</td>\n    </tr>\n  </tbody>\n</table>\n</div>"
          },
          "metadata": {}
        }
      ]
    },
    {
      "metadata": {
        "trusted": true,
        "_uuid": "1b295101491db1e5f5d6bb32c0baba2bdff59903"
      },
      "cell_type": "code",
      "source": "comment = pd.read_csv('../input/comments.csv')\ncomment.head()",
      "execution_count": 14,
      "outputs": [
        {
          "output_type": "execute_result",
          "execution_count": 14,
          "data": {
            "text/plain": "                        comments_id                        ...                                                              comments_body\n0  f30250d3c2ca489db1afa9b95d481e08                        ...                          First, you speak to recruiters. They are train...\n1  ca9bfc4ba9464ea383a8b080301ad72c                        ...                          Most large universities offer study abroad pro...\n2  c354f6e33956499aa8b03798a60e9386                        ...                          First, I want to put you at ease that the oppo...\n3  73a6223948714c5da6231937157e4cb7                        ...                          Your question submission was great! I just wan...\n4  55a89a9061d44dd19569c45f90a22779                        ...                          Thank you. I'm new to this site. I'm sorry if ...\n\n[5 rows x 5 columns]",
            "text/html": "<div>\n<style scoped>\n    .dataframe tbody tr th:only-of-type {\n        vertical-align: middle;\n    }\n\n    .dataframe tbody tr th {\n        vertical-align: top;\n    }\n\n    .dataframe thead th {\n        text-align: right;\n    }\n</style>\n<table border=\"1\" class=\"dataframe\">\n  <thead>\n    <tr style=\"text-align: right;\">\n      <th></th>\n      <th>comments_id</th>\n      <th>comments_author_id</th>\n      <th>comments_parent_content_id</th>\n      <th>comments_date_added</th>\n      <th>comments_body</th>\n    </tr>\n  </thead>\n  <tbody>\n    <tr>\n      <th>0</th>\n      <td>f30250d3c2ca489db1afa9b95d481e08</td>\n      <td>9fc88a7c3323466dbb35798264c7d497</td>\n      <td>b476f9c6d9cd4c50a7bacdd90edd015a</td>\n      <td>2019-01-31 23:39:40 UTC+0000</td>\n      <td>First, you speak to recruiters. They are train...</td>\n    </tr>\n    <tr>\n      <th>1</th>\n      <td>ca9bfc4ba9464ea383a8b080301ad72c</td>\n      <td>de2415064b9b445c8717425ed70fd99a</td>\n      <td>ef4b6ae24d1f4c3b977731e8189c7fd7</td>\n      <td>2019-01-31 20:30:47 UTC+0000</td>\n      <td>Most large universities offer study abroad pro...</td>\n    </tr>\n    <tr>\n      <th>2</th>\n      <td>c354f6e33956499aa8b03798a60e9386</td>\n      <td>6ed20605002a42b0b8e3d6ac97c50c7f</td>\n      <td>ca7a9d7a95df471c816db82ee758f57d</td>\n      <td>2019-01-31 18:44:04 UTC+0000</td>\n      <td>First, I want to put you at ease that the oppo...</td>\n    </tr>\n    <tr>\n      <th>3</th>\n      <td>73a6223948714c5da6231937157e4cb7</td>\n      <td>d02f6d9faac24997a7003a59e5f34bd3</td>\n      <td>c7a88aa76f5f49b0830bfeb46ba17e4d</td>\n      <td>2019-01-31 17:53:28 UTC+0000</td>\n      <td>Your question submission was great! I just wan...</td>\n    </tr>\n    <tr>\n      <th>4</th>\n      <td>55a89a9061d44dd19569c45f90a22779</td>\n      <td>e78f75c543e84e1c94da1801d8560f65</td>\n      <td>c7a88aa76f5f49b0830bfeb46ba17e4d</td>\n      <td>2019-01-31 14:51:53 UTC+0000</td>\n      <td>Thank you. I'm new to this site. I'm sorry if ...</td>\n    </tr>\n  </tbody>\n</table>\n</div>"
          },
          "metadata": {}
        }
      ]
    },
    {
      "metadata": {
        "trusted": true,
        "_uuid": "56c06344005f8e0833bdac1f49f78fa1c54e3199"
      },
      "cell_type": "code",
      "source": "match = pd.read_csv('../input/matches.csv')\nmatch.head()",
      "execution_count": 15,
      "outputs": [
        {
          "output_type": "execute_result",
          "execution_count": 15,
          "data": {
            "text/plain": "   matches_email_id               matches_question_id\n0           1721939  332a511f1569444485cf7a7a556a5e54\n1           1665388  332a511f1569444485cf7a7a556a5e54\n2           1636634  332a511f1569444485cf7a7a556a5e54\n3           1635498  332a511f1569444485cf7a7a556a5e54\n4           1620298  332a511f1569444485cf7a7a556a5e54",
            "text/html": "<div>\n<style scoped>\n    .dataframe tbody tr th:only-of-type {\n        vertical-align: middle;\n    }\n\n    .dataframe tbody tr th {\n        vertical-align: top;\n    }\n\n    .dataframe thead th {\n        text-align: right;\n    }\n</style>\n<table border=\"1\" class=\"dataframe\">\n  <thead>\n    <tr style=\"text-align: right;\">\n      <th></th>\n      <th>matches_email_id</th>\n      <th>matches_question_id</th>\n    </tr>\n  </thead>\n  <tbody>\n    <tr>\n      <th>0</th>\n      <td>1721939</td>\n      <td>332a511f1569444485cf7a7a556a5e54</td>\n    </tr>\n    <tr>\n      <th>1</th>\n      <td>1665388</td>\n      <td>332a511f1569444485cf7a7a556a5e54</td>\n    </tr>\n    <tr>\n      <th>2</th>\n      <td>1636634</td>\n      <td>332a511f1569444485cf7a7a556a5e54</td>\n    </tr>\n    <tr>\n      <th>3</th>\n      <td>1635498</td>\n      <td>332a511f1569444485cf7a7a556a5e54</td>\n    </tr>\n    <tr>\n      <th>4</th>\n      <td>1620298</td>\n      <td>332a511f1569444485cf7a7a556a5e54</td>\n    </tr>\n  </tbody>\n</table>\n</div>"
          },
          "metadata": {}
        }
      ]
    },
    {
      "metadata": {
        "trusted": true,
        "_uuid": "fe774dd7ad4390ca501b54ac67a8baaedf937aca"
      },
      "cell_type": "code",
      "source": "questions = pd.read_csv('../input/questions.csv')\nquestions.head()",
      "execution_count": 17,
      "outputs": [
        {
          "output_type": "execute_result",
          "execution_count": 17,
          "data": {
            "text/plain": "                       questions_id                        ...                                                             questions_body\n0  332a511f1569444485cf7a7a556a5e54                        ...                          What  is  a  maths  teacher?   what  is  a  ma...\n1  eb80205482e4424cad8f16bc25aa2d9c                        ...                          I am Priyanka from Bangalore . Now am in 10th ...\n2  4ec31632938a40b98909416bdd0decff                        ...                          I'm planning on going abroad for my first job....\n3  2f6a9a99d9b24e5baa50d40d0ba50a75                        ...                          i hear business management is a hard way to ge...\n4  5af8880460c141dbb02971a1a8369529                        ...                          I'm trying to find scholarships for first year...\n\n[5 rows x 5 columns]",
            "text/html": "<div>\n<style scoped>\n    .dataframe tbody tr th:only-of-type {\n        vertical-align: middle;\n    }\n\n    .dataframe tbody tr th {\n        vertical-align: top;\n    }\n\n    .dataframe thead th {\n        text-align: right;\n    }\n</style>\n<table border=\"1\" class=\"dataframe\">\n  <thead>\n    <tr style=\"text-align: right;\">\n      <th></th>\n      <th>questions_id</th>\n      <th>questions_author_id</th>\n      <th>questions_date_added</th>\n      <th>questions_title</th>\n      <th>questions_body</th>\n    </tr>\n  </thead>\n  <tbody>\n    <tr>\n      <th>0</th>\n      <td>332a511f1569444485cf7a7a556a5e54</td>\n      <td>8f6f374ffd834d258ab69d376dd998f5</td>\n      <td>2016-04-26 11:14:26 UTC+0000</td>\n      <td>Teacher   career   question</td>\n      <td>What  is  a  maths  teacher?   what  is  a  ma...</td>\n    </tr>\n    <tr>\n      <th>1</th>\n      <td>eb80205482e4424cad8f16bc25aa2d9c</td>\n      <td>acccbda28edd4362ab03fb8b6fd2d67b</td>\n      <td>2016-05-20 16:48:25 UTC+0000</td>\n      <td>I want to become an army officer. What can I d...</td>\n      <td>I am Priyanka from Bangalore . Now am in 10th ...</td>\n    </tr>\n    <tr>\n      <th>2</th>\n      <td>4ec31632938a40b98909416bdd0decff</td>\n      <td>f2c179a563024ccc927399ce529094b5</td>\n      <td>2017-02-08 19:13:38 UTC+0000</td>\n      <td>Will going abroad for your first job increase ...</td>\n      <td>I'm planning on going abroad for my first job....</td>\n    </tr>\n    <tr>\n      <th>3</th>\n      <td>2f6a9a99d9b24e5baa50d40d0ba50a75</td>\n      <td>2c30ffba444e40eabb4583b55233a5a4</td>\n      <td>2017-09-01 14:05:32 UTC+0000</td>\n      <td>To become a specialist in business  management...</td>\n      <td>i hear business management is a hard way to ge...</td>\n    </tr>\n    <tr>\n      <th>4</th>\n      <td>5af8880460c141dbb02971a1a8369529</td>\n      <td>aa9eb1a2ab184ebbb00dc01ab663428a</td>\n      <td>2017-09-01 02:36:54 UTC+0000</td>\n      <td>Are there any scholarships out there for stude...</td>\n      <td>I'm trying to find scholarships for first year...</td>\n    </tr>\n  </tbody>\n</table>\n</div>"
          },
          "metadata": {}
        }
      ]
    },
    {
      "metadata": {
        "trusted": true,
        "_uuid": "e160b334f8ce86e8ee348cecbcde091051861d24"
      },
      "cell_type": "code",
      "source": "school_membership = pd.read_csv('../input/school_memberships.csv')\nschool_membership.head()",
      "execution_count": 19,
      "outputs": [
        {
          "output_type": "execute_result",
          "execution_count": 19,
          "data": {
            "text/plain": "   school_memberships_school_id        school_memberships_user_id\n0                        197406  23dce13ca6164a73aec7a3cd56a4884d\n1                        197398  23dce13ca6164a73aec7a3cd56a4884d\n2                        199821  23dce13ca6164a73aec7a3cd56a4884d\n3                        186239  9c5803ae43ca4cf6b27ea85871625116\n4                        182063  9c5803ae43ca4cf6b27ea85871625116",
            "text/html": "<div>\n<style scoped>\n    .dataframe tbody tr th:only-of-type {\n        vertical-align: middle;\n    }\n\n    .dataframe tbody tr th {\n        vertical-align: top;\n    }\n\n    .dataframe thead th {\n        text-align: right;\n    }\n</style>\n<table border=\"1\" class=\"dataframe\">\n  <thead>\n    <tr style=\"text-align: right;\">\n      <th></th>\n      <th>school_memberships_school_id</th>\n      <th>school_memberships_user_id</th>\n    </tr>\n  </thead>\n  <tbody>\n    <tr>\n      <th>0</th>\n      <td>197406</td>\n      <td>23dce13ca6164a73aec7a3cd56a4884d</td>\n    </tr>\n    <tr>\n      <th>1</th>\n      <td>197398</td>\n      <td>23dce13ca6164a73aec7a3cd56a4884d</td>\n    </tr>\n    <tr>\n      <th>2</th>\n      <td>199821</td>\n      <td>23dce13ca6164a73aec7a3cd56a4884d</td>\n    </tr>\n    <tr>\n      <th>3</th>\n      <td>186239</td>\n      <td>9c5803ae43ca4cf6b27ea85871625116</td>\n    </tr>\n    <tr>\n      <th>4</th>\n      <td>182063</td>\n      <td>9c5803ae43ca4cf6b27ea85871625116</td>\n    </tr>\n  </tbody>\n</table>\n</div>"
          },
          "metadata": {}
        }
      ]
    },
    {
      "metadata": {
        "trusted": true,
        "_uuid": "fa93988e3a46153c9029d5faacb90da137f62ad6"
      },
      "cell_type": "code",
      "source": "ans.columns",
      "execution_count": 22,
      "outputs": [
        {
          "output_type": "execute_result",
          "execution_count": 22,
          "data": {
            "text/plain": "Index(['answers_id', 'answers_author_id', 'answers_question_id',\n       'answers_date_added', 'answers_body'],\n      dtype='object')"
          },
          "metadata": {}
        }
      ]
    },
    {
      "metadata": {
        "trusted": true,
        "_uuid": "d2c50a6c6ab5c79c4e361be3442f3cea25b4b983"
      },
      "cell_type": "code",
      "source": "import matplotlib.pyplot as plt\nimport seaborn as sns\n\nsns.set(style=\"darkgrid\")",
      "execution_count": 36,
      "outputs": []
    },
    {
      "metadata": {
        "trusted": true,
        "_uuid": "de33f6d7470460d3d763210b148ed596911c7e3b"
      },
      "cell_type": "code",
      "source": "ax = sns.countplot(x=ans['answers_author_id'].value_counts()[:30])",
      "execution_count": 40,
      "outputs": [
        {
          "output_type": "display_data",
          "data": {
            "text/plain": "<Figure size 432x288 with 1 Axes>",
            "image/png": "[encoded data removed]"
          },
          "metadata": {}
        }
      ]
    },
    {
      "metadata": {
        "trusted": true,
        "_uuid": "91f2ed16cae4a320b52e24b2eda88c94b40b4c41"
      },
      "cell_type": "code",
      "source": "len(ans['answers_author_id'].value_counts())",
      "execution_count": 33,
      "outputs": [
        {
          "output_type": "execute_result",
          "execution_count": 33,
          "data": {
            "text/plain": "10169"
          },
          "metadata": {}
        }
      ]
    },
    {
      "metadata": {
        "trusted": true,
        "_uuid": "b117fc7d819e75e74293d0c6dc220f4e1dceb5dd"
      },
      "cell_type": "code",
      "source": "ans['answers_author_id'].value_counts()[:20]",
      "execution_count": 31,
      "outputs": [
        {
          "output_type": "execute_result",
          "execution_count": 31,
          "data": {
            "text/plain": "36ff3b3666df400f956f8335cf53e09e    1710\n58fa5e95fe9e480a9349bbb1d7faaddb    1112\na1006e6a58a0447592e2435caa230f78     915\nbe5d23056fcb4f1287c823beec5291e1     711\n05ab77d4c6a141b999044ebbf5415b0d     616\n369f1c8646b649f6997eae7809696bd5     406\na6d33c38902546849c36ea7e9e9f0870     259\n05444a2f42454327b2ac4b463c0adbe0     257\n4dc61581ec7b409bbd037e483f53ba0a     217\nc3b4e11154f74a858779be7ba9b6f00c     210\ne1d39b665987455fbcfbec3fc6df6056     188\nfafeba89ca764bd891862fb8440a2962     159\n81a594b683d54e6dbb4b04ea00a5e25b     153\n704f599b85354ca4a79ca3847f585ec8     144\nd67ce930870945109a7ad86d29ba2035     137\nfe4543418c0846e5a65fa22b4ad9a304     136\n53939a491acb42a4815463845a638186     134\ne2b4c84bf1ca4aea9b108869692d8017     133\n0b17f4e9d93c40eb9a5d087865084ce6     127\nbb4fe08bb5424f08972927d90bad9642     119\nName: answers_author_id, dtype: int64"
          },
          "metadata": {}
        }
      ]
    },
    {
      "metadata": {
        "trusted": true,
        "_uuid": "ddaece1d8ec75058aa0786a835a49a8b89c35b01"
      },
      "cell_type": "code",
      "source": "len(ans)",
      "execution_count": 29,
      "outputs": [
        {
          "output_type": "execute_result",
          "execution_count": 29,
          "data": {
            "text/plain": "51123"
          },
          "metadata": {}
        }
      ]
    },
    {
      "metadata": {
        "_uuid": "1723d059c4a0b59b5809146769d0edfeb27dd0b6"
      },
      "cell_type": "markdown",
      "source": "手順\n    \n回答者ランクの付け方は？ 50vs50で\nTOP100人にレコメンド\n\n仕込み：Answer_User_id, Answered_question_docs, Positive_num（回数）, Active_class（1,2,3,4,5）, 合計Answer_Rank\n入力：質問のタイトル、ボディ、タグをシーケンス化\nDoc2vecとコサイン類似度で過去の文章と似ているものにコメントしたTOP500人のユーザーを選出.\n\n"
    }
  ],
  "metadata": {
    "kernelspec": {
      "display_name": "Python 3",
      "language": "python",
      "name": "python3"
    },
    "language_info": {
      "name": "python",
      "version": "3.6.6",
      "mimetype": "text/x-python",
      "codemirror_mode": {
        "name": "ipython",
        "version": 3
      },
      "pygments_lexer": "ipython3",
      "nbconvert_exporter": "python",
      "file_extension": ".py"
    }
  },
  "nbformat": 4,
  "nbformat_minor": 1
}